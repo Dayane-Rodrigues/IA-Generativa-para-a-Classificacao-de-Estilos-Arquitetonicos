{
  "cells": [
    {
      "cell_type": "markdown",
      "metadata": {
        "id": "EXX9Fn_7wy2d"
      },
      "source": [
        "⏩ `Este é um notebook para transformação dos dados e cálculo do FID!`"
      ]
    },
    {
      "cell_type": "code",
      "execution_count": null,
      "metadata": {
        "colab": {
          "base_uri": "https://localhost:8080/"
        },
        "id": "clCa4TEOpnnI",
        "outputId": "31329b09-f5b7-47ef-a8b9-84535582f011"
      },
      "outputs": [
        {
          "name": "stdout",
          "output_type": "stream",
          "text": [
            "Mounted at /content/drive/\n"
          ]
        }
      ],
      "source": [
        "from google.colab import drive\n",
        "\n",
        "drive.mount('/content/drive/', force_remount=True)"
      ]
    },
    {
      "cell_type": "markdown",
      "metadata": {
        "id": "Ys-_Y2k5Fpfk"
      },
      "source": [
        "# Tratamento de Dados"
      ]
    },
    {
      "cell_type": "markdown",
      "metadata": {
        "id": "CrLsdbIZ8tsr"
      },
      "source": [
        "`1º PASSO:`\n",
        "\n",
        "Vamos transformar os *samples* do gerador do formado **npz** para formato **jpg**."
      ]
    },
    {
      "cell_type": "markdown",
      "metadata": {
        "id": "qJW85dkdsdSy"
      },
      "source": [
        "Substitua os diretórios abaixo!\n",
        "\n",
        "`ATENÇÃO`: Na pasta de destino, coloque pastas diferente para cada vez que transformar os arquivos de npz para jpg. Não misture as imagens!\n",
        "\n",
        "Exemplo:\n",
        "\n",
        "* Pasta 1: \"imagens_100k_iters\"\n",
        "* Pasta 2: \"Imagens_200k_iters\"\n",
        "* Pasta 3: \"Imagens_300k_iters\"\n",
        "\n",
        "**Obs:** identifique a quantidade de iterações pelo início do nome do arquivo npz. Exemplo: '`100k`_samples_614x128x128x3.npz'."
      ]
    },
    {
      "cell_type": "code",
      "execution_count": null,
      "metadata": {
        "id": "Q1ayeamhmkPS"
      },
      "outputs": [],
      "source": [
        "import numpy as np\n",
        "import matplotlib.pyplot as plt\n",
        "import os\n",
        "\n",
        "# Diretório do Arquivo NPZ\n",
        "data = np.load('/content/drive/MyDrive/samples_614x128x128x3.npz')\n",
        "\n",
        "# Especifique o caminho da pasta onde as imagens serão salvas\n",
        "pasta_destino = '/content/drive/MyDrive/AMNS/imagens_sinteticas_IteraçãoNk'\n",
        "\n",
        "# Certifique-se de que a pasta destino existe\n",
        "os.makedirs(pasta_destino, exist_ok=True)\n",
        "\n",
        "# Verifique se a pasta de destino está vazia\n",
        "if os.listdir(pasta_destino):\n",
        "    print(\"Você está salvando as imagens em uma pasta com outros arquivos. Crie uma pasta diferente e a identifique com a quantidade de iterações das imagens, exemplo: 'imagens_100k_iters'.\")\n",
        "else:\n",
        "    # Iterar sobre as imagens no arquivo NPZ e salvá-las\n",
        "    for i, imagem in enumerate(data['arr_0']):\n",
        "        # Salvar a imagem como um arquivo JPG\n",
        "        plt.imsave(os.path.join(pasta_destino, f'imagem_{i}.jpg'), imagem)\n"
      ]
    },
    {
      "cell_type": "markdown",
      "metadata": {
        "id": "obK4Pp9_9AIr"
      },
      "source": [
        "# Cálculo FID"
      ]
    },
    {
      "cell_type": "code",
      "execution_count": null,
      "metadata": {
        "colab": {
          "base_uri": "https://localhost:8080/"
        },
        "id": "4UHCypbg0MGb",
        "outputId": "0f12bb7a-7682-4a52-a51a-9c832b6870be"
      },
      "outputs": [
        {
          "name": "stdout",
          "output_type": "stream",
          "text": [
            "Collecting pytorch-fid\n",
            "  Downloading pytorch_fid-0.3.0-py3-none-any.whl.metadata (5.3 kB)\n",
            "Requirement already satisfied: numpy in /usr/local/lib/python3.10/dist-packages (from pytorch-fid) (1.26.4)\n",
            "Requirement already satisfied: pillow in /usr/local/lib/python3.10/dist-packages (from pytorch-fid) (10.4.0)\n",
            "Requirement already satisfied: scipy in /usr/local/lib/python3.10/dist-packages (from pytorch-fid) (1.13.1)\n",
            "Requirement already satisfied: torch>=1.0.1 in /usr/local/lib/python3.10/dist-packages (from pytorch-fid) (2.4.1+cu121)\n",
            "Requirement already satisfied: torchvision>=0.2.2 in /usr/local/lib/python3.10/dist-packages (from pytorch-fid) (0.19.1+cu121)\n",
            "Requirement already satisfied: filelock in /usr/local/lib/python3.10/dist-packages (from torch>=1.0.1->pytorch-fid) (3.16.1)\n",
            "Requirement already satisfied: typing-extensions>=4.8.0 in /usr/local/lib/python3.10/dist-packages (from torch>=1.0.1->pytorch-fid) (4.12.2)\n",
            "Requirement already satisfied: sympy in /usr/local/lib/python3.10/dist-packages (from torch>=1.0.1->pytorch-fid) (1.13.3)\n",
            "Requirement already satisfied: networkx in /usr/local/lib/python3.10/dist-packages (from torch>=1.0.1->pytorch-fid) (3.3)\n",
            "Requirement already satisfied: jinja2 in /usr/local/lib/python3.10/dist-packages (from torch>=1.0.1->pytorch-fid) (3.1.4)\n",
            "Requirement already satisfied: fsspec in /usr/local/lib/python3.10/dist-packages (from torch>=1.0.1->pytorch-fid) (2024.6.1)\n",
            "Requirement already satisfied: MarkupSafe>=2.0 in /usr/local/lib/python3.10/dist-packages (from jinja2->torch>=1.0.1->pytorch-fid) (2.1.5)\n",
            "Requirement already satisfied: mpmath<1.4,>=1.1.0 in /usr/local/lib/python3.10/dist-packages (from sympy->torch>=1.0.1->pytorch-fid) (1.3.0)\n",
            "Downloading pytorch_fid-0.3.0-py3-none-any.whl (15 kB)\n",
            "Installing collected packages: pytorch-fid\n",
            "Successfully installed pytorch-fid-0.3.0\n"
          ]
        }
      ],
      "source": [
        "!pip install pytorch-fid"
      ]
    },
    {
      "cell_type": "code",
      "execution_count": null,
      "metadata": {
        "colab": {
          "base_uri": "https://localhost:8080/"
        },
        "id": "E9AwnaiGIYZx",
        "outputId": "d3cea8e9-e07d-486d-89ba-e56aa7ed9b90"
      },
      "outputs": [
        {
          "name": "stdout",
          "output_type": "stream",
          "text": [
            "Collecting scipy==1.11.1\n",
            "  Downloading scipy-1.11.1-cp310-cp310-manylinux_2_17_x86_64.manylinux2014_x86_64.whl.metadata (59 kB)\n",
            "\u001b[?25l     \u001b[90m━━━━━━━━━━━━━━━━━━━━━━━━━━━━━━━━━━━━━━━━\u001b[0m \u001b[32m0.0/59.1 kB\u001b[0m \u001b[31m?\u001b[0m eta \u001b[36m-:--:--\u001b[0m\r\u001b[2K     \u001b[90m━━━━━━━━━━━━━━━━━━━━━━━━━━━━━━━━━━━━━━━━\u001b[0m \u001b[32m59.1/59.1 kB\u001b[0m \u001b[31m3.6 MB/s\u001b[0m eta \u001b[36m0:00:00\u001b[0m\n",
            "\u001b[?25hRequirement already satisfied: numpy<1.28.0,>=1.21.6 in /usr/local/lib/python3.10/dist-packages (from scipy==1.11.1) (1.26.4)\n",
            "Downloading scipy-1.11.1-cp310-cp310-manylinux_2_17_x86_64.manylinux2014_x86_64.whl (36.3 MB)\n",
            "\u001b[2K   \u001b[90m━━━━━━━━━━━━━━━━━━━━━━━━━━━━━━━━━━━━━━━━\u001b[0m \u001b[32m36.3/36.3 MB\u001b[0m \u001b[31m41.9 MB/s\u001b[0m eta \u001b[36m0:00:00\u001b[0m\n",
            "\u001b[?25hInstalling collected packages: scipy\n",
            "  Attempting uninstall: scipy\n",
            "    Found existing installation: scipy 1.13.1\n",
            "    Uninstalling scipy-1.13.1:\n",
            "      Successfully uninstalled scipy-1.13.1\n",
            "Successfully installed scipy-1.11.1\n"
          ]
        }
      ],
      "source": [
        "!pip install scipy==1.11.1"
      ]
    },
    {
      "cell_type": "markdown",
      "metadata": {
        "id": "-nXkO03B-Ayx"
      },
      "source": [
        "`2º PASSO:`\n",
        "\n",
        "Precisamos atestar que temos 614 imagens sintéticas.\n",
        "\n",
        "Confira na saída se  a quantidade bate!"
      ]
    },
    {
      "cell_type": "code",
      "execution_count": null,
      "metadata": {
        "id": "p7CCaeR4-FEz"
      },
      "outputs": [],
      "source": [
        "import os\n",
        "from collections import defaultdict\n",
        "\n",
        "def count(pasta):\n",
        "  # Dicionário para armazenar a contagem de cada tipo de arquivo\n",
        "  tipos_arquivos = defaultdict(int)\n",
        "\n",
        "  # Percorre todos os arquivos na pasta\n",
        "  for subdir, _, files in os.walk(pasta):\n",
        "      for file in files:\n",
        "          ext = os.path.splitext(file)[1]  # Obtém a extensão do arquivo\n",
        "          tipos_arquivos[ext] += 1\n",
        "\n",
        "  # Imprime os tipos de arquivos e suas contagens\n",
        "  for ext, count in tipos_arquivos.items():\n",
        "      print(f'Extensão: {ext}, Quantidade: {count}')\n",
        "  return count\n"
      ]
    },
    {
      "cell_type": "code",
      "execution_count": null,
      "metadata": {
        "id": "IDYIF-g7-ID-"
      },
      "outputs": [],
      "source": [
        "qntd = count(pasta_destino)\n",
        "qntd"
      ]
    },
    {
      "cell_type": "markdown",
      "metadata": {
        "id": "CJD6r5dDvwl2"
      },
      "source": [
        "`3º PASSO: `\n",
        "\n",
        "Vamos calcular o FID!\n"
      ]
    },
    {
      "cell_type": "markdown",
      "metadata": {
        "id": "2FVui95kzEub"
      },
      "source": []
    },
    {
      "cell_type": "markdown",
      "metadata": {
        "id": "bvLHDLke9aD_"
      },
      "source": [
        "Acesse o link do *dataset* abaixo e crie um atalho no seu drive.\n",
        "Depois substitua a variável 'dados_originais' pelo diretório do atalho que criou!"
      ]
    },
    {
      "cell_type": "markdown",
      "metadata": {
        "id": "q8335E5EzDNx"
      },
      "source": [
        "[link](https://https://drive.google.com/drive/folders/1dkpgYXAqITo-EWjoG19ugdr3OBbwP9oJ?usp=drive_link)"
      ]
    },
    {
      "cell_type": "code",
      "execution_count": null,
      "metadata": {
        "id": "8G6EnYZBwVtF"
      },
      "outputs": [],
      "source": [
        "dados_originais = 'diretorio do atalho'"
      ]
    },
    {
      "cell_type": "code",
      "execution_count": null,
      "metadata": {
        "id": "8N1VfcwPkUPg"
      },
      "outputs": [],
      "source": [
        "!python -m pytorch_fid dados_originais pasta_destino"
      ]
    },
    {
      "cell_type": "markdown",
      "metadata": {
        "id": "GdKfaUw_wcFb"
      },
      "source": [
        "🔴 ATENÇÃO 🔴\n",
        "\n",
        "REGISTRE O VALOR DE SAÍDA DO **FID** EM ALGUM LUGAR ANTES DE RODAR NOVAMENTE O COLAB!"
      ]
    }
  ],
  "metadata": {
    "accelerator": "GPU",
    "colab": {
      "gpuType": "T4",
      "provenance": []
    },
    "kernelspec": {
      "display_name": "Python 3",
      "name": "python3"
    },
    "language_info": {
      "name": "python"
    }
  },
  "nbformat": 4,
  "nbformat_minor": 0
}
