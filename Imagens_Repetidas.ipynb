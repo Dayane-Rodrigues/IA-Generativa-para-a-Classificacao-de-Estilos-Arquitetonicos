{
  "cells": [
    {
      "cell_type": "markdown",
      "metadata": {
        "id": "CV5i-OLmc6UF"
      },
      "source": [
        "\n",
        "# Imagens Repetidas"
      ]
    },
    {
      "cell_type": "code",
      "execution_count": null,
      "metadata": {
        "id": "ReZ6rjh4ndFE"
      },
      "outputs": [],
      "source": [
        "import skimage.measure\n",
        "import matplotlib.pyplot as plt\n",
        "import numpy as np\n",
        "import cv2\n",
        "import os\n",
        "import imghdr\n",
        "import tqdm.notebook as tq"
      ]
    },
    {
      "cell_type": "code",
      "execution_count": null,
      "metadata": {
        "id": "7VCbmpn6oD_I"
      },
      "outputs": [],
      "source": [
        "# Function that searches the folder for image files, converts them to a tensor\n",
        "def create_imgs_matrix(directory, compression=50):\n",
        "    global image_files\n",
        "    image_files = []\n",
        "    # create list of all files in directory\n",
        "    folder_files = [filename for filename in os.listdir(directory) if '.jpg' or '.png' in filename]\n",
        "\n",
        "    # create images matrix\n",
        "    counter = 0\n",
        "\n",
        "    for filename in tq.tqdm(folder_files):\n",
        "        # check if the file is accesible and if the file format is an image\n",
        "        if not os.path.isdir(directory + filename) and imghdr.what(directory + filename):\n",
        "            # decode the image and create the matrix\n",
        "            img = cv2.imdecode(np.fromfile(directory + filename, dtype=np.uint8), cv2.IMREAD_UNCHANGED)\n",
        "            if type(img) == np.ndarray:\n",
        "                img = img[...,0:3]\n",
        "                # resize the image based on the given compression value\n",
        "                img = cv2.resize(img, dsize=(compression, compression), interpolation=cv2.INTER_CUBIC)\n",
        "                if counter == 0:\n",
        "                    imgs_matrix = img\n",
        "                    image_files.append(filename)\n",
        "                    counter += 1\n",
        "                else:\n",
        "                    imgs_matrix = np.concatenate((imgs_matrix, img))\n",
        "                    image_files.append(filename)\n",
        "    return imgs_matrix"
      ]
    },
    {
      "cell_type": "code",
      "execution_count": null,
      "metadata": {
        "id": "w97eJsYjoG9z"
      },
      "outputs": [],
      "source": [
        "# Function that calulates the mean squared error (mse) between two image matrices\n",
        "def mse(imageA, imageB):\n",
        "    err = np.sum((imageA.astype(\"float\") - imageB.astype(\"float\")) ** 2)\n",
        "    err /= float(imageA.shape[0] * imageA.shape[1])\n",
        "    return err"
      ]
    },
    {
      "cell_type": "code",
      "execution_count": null,
      "metadata": {
        "id": "1GyJ8vn6oOv2"
      },
      "outputs": [],
      "source": [
        "#Function for rotating an image matrix by a 90 degree angle\n",
        "def rotate_img(image):\n",
        "    image = np.rot90(image, k=1, axes=(0, 1))\n",
        "    return image"
      ]
    },
    {
      "cell_type": "code",
      "execution_count": null,
      "metadata": {
        "id": "aVYG7fdNoWtV"
      },
      "outputs": [],
      "source": [
        "# Function for checking the quality of compared images, appends the lower quality image to the list\n",
        "def check_img_quality(directory, imageA, imageB, list):\n",
        "    size_imgA = os.stat(directory + imageA).st_size\n",
        "    size_imgB = os.stat(directory + imageB).st_size\n",
        "    if size_imgA > size_imgB:\n",
        "        add_to_list(imageB, list)\n",
        "    else:\n",
        "        add_to_list(imageA, list)"
      ]
    },
    {
      "cell_type": "code",
      "execution_count": null,
      "metadata": {
        "id": "kS28R_15oaPJ"
      },
      "outputs": [],
      "source": [
        "def compare_images(directory, show_imgs=True, similarity=\"low\", compression=50):\n",
        "    \"\"\"\n",
        "    directory (str).........folder to search for duplicate/similar images\n",
        "    show_imgs (bool)........True = shows the duplicate/similar images found in output\n",
        "                            False = doesn't show found images\n",
        "    similarity (str)........\"high\" = searches for duplicate images, more precise\n",
        "                            \"low\" = finds similar images\n",
        "    compression (int).......recommended not to change default value\n",
        "                            compression in px (height x width) of the images before being compared\n",
        "                            the higher the compression i.e. the higher the pixel size, the more computational ressources and time required\n",
        "    \"\"\"\n",
        "    # list where the found duplicate/similar images are stored\n",
        "    duplicates = []\n",
        "\n",
        "    lower_res = []\n",
        "\n",
        "    imgs_matrix = create_imgs_matrix(directory, compression)\n",
        "\n",
        "    # search for similar images\n",
        "    if similarity == \"low\":\n",
        "        ref = 400\n",
        "    # search for 1:1 duplicate images\n",
        "    else:\n",
        "        ref = 200\n",
        "\n",
        "    main_img = 0\n",
        "    compared_img = 1\n",
        "    nrows, ncols = compression, compression\n",
        "    srow_A = 0\n",
        "    erow_A = nrows\n",
        "    srow_B = erow_A\n",
        "    erow_B = srow_B + nrows\n",
        "\n",
        "    pbar = tq.tqdm(total=int(imgs_matrix.shape[0]))\n",
        "\n",
        "    while erow_B <= imgs_matrix.shape[0]:\n",
        "        pbar.update(int(nrows))\n",
        "        while compared_img < (len(image_files)):\n",
        "\n",
        "            # select two images from imgs_matrix\n",
        "            imgA = imgs_matrix[srow_A : erow_A, # rows\n",
        "                               0      : ncols]  # columns\n",
        "            imgB = imgs_matrix[srow_B : erow_B, # rows\n",
        "                               0      : ncols]  # columns\n",
        "            # compare the images\n",
        "            rotations = 0\n",
        "            while image_files[main_img] not in duplicates and rotations < 3:\n",
        "                if rotations != 0:\n",
        "                    imgB = rotate_img(imgB)\n",
        "                err = mse(imgA, imgB)\n",
        "                if err < ref:\n",
        "                    if show_imgs == True:\n",
        "                        show_img_figs(imgA, imgB, err)\n",
        "                        show_file_info(compared_img, main_img)\n",
        "                    add_to_list((image_files[main_img],image_files[compared_img]), duplicates)\n",
        "                rotations += 1\n",
        "            srow_B += nrows\n",
        "            erow_B += nrows\n",
        "            compared_img += 1\n",
        "\n",
        "        srow_A += nrows\n",
        "        erow_A += nrows\n",
        "        srow_B = erow_A\n",
        "        erow_B = srow_B + nrows\n",
        "        main_img += 1\n",
        "        compared_img = main_img + 1\n",
        "\n",
        "    pbar.update(int(nrows))\n",
        "    msg = \"\\n***\\n DONE: found \" + str(len(duplicates))  + \" duplicate/similar image pairs in \" + str(len(image_files)) + \" total images.\\n The following files are duplicated:\"\n",
        "    print(msg)\n",
        "    return set(duplicates), duplicates"
      ]
    },
    {
      "cell_type": "code",
      "execution_count": null,
      "metadata": {
        "id": "5EISXPCHotdd"
      },
      "outputs": [],
      "source": [
        "# Function for printing filename info of plotted image files\n",
        "def show_file_info(compared_img, main_img):\n",
        "    print(\"Duplicate file: \" + image_files[main_img] + \" and \" + image_files[compared_img])\n",
        "\n",
        "# Function for appending items to a list\n",
        "def add_to_list(filename, list):\n",
        "    list.append(filename)"
      ]
    },
    {
      "cell_type": "markdown",
      "source": [
        "# Inferencia"
      ],
      "metadata": {
        "id": "br1psZSLAv23"
      }
    },
    {
      "cell_type": "code",
      "source": [
        "diretorio = '' # Mantenha a barra \"/\" no final"
      ],
      "metadata": {
        "id": "k_EJ8sdw-3Ua"
      },
      "execution_count": null,
      "outputs": []
    },
    {
      "cell_type": "code",
      "execution_count": null,
      "metadata": {
        "id": "24Wg7K1rYlee"
      },
      "outputs": [],
      "source": [
        "set_duplicates, list_duplicates = compare_images(diretorio, show_imgs=False)"
      ]
    },
    {
      "cell_type": "code",
      "execution_count": null,
      "metadata": {
        "id": "IhwG5_Hqs38o"
      },
      "outputs": [],
      "source": [
        "set_duplicates"
      ]
    }
  ],
  "metadata": {
    "accelerator": "GPU",
    "colab": {
      "gpuType": "T4",
      "provenance": []
    },
    "kernelspec": {
      "display_name": "Python 3",
      "name": "python3"
    },
    "language_info": {
      "codemirror_mode": {
        "name": "ipython",
        "version": 3
      },
      "file_extension": ".py",
      "mimetype": "text/x-python",
      "name": "python",
      "nbconvert_exporter": "python",
      "pygments_lexer": "ipython3",
      "version": "3.11.3"
    }
  },
  "nbformat": 4,
  "nbformat_minor": 0
}