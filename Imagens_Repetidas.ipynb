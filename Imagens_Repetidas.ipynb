{
  "cells": [
    {
      "cell_type": "markdown",
      "metadata": {
        "id": "CV5i-OLmc6UF"
      },
      "source": [
        "\n",
        "# Imagens Repetidas"
      ]
    },
    {
      "cell_type": "code",
      "execution_count": null,
      "metadata": {
        "id": "ReZ6rjh4ndFE"
      },
      "outputs": [],
      "source": [
        "import skimage.measure\n",
        "import matplotlib.pyplot as plt\n",
        "import numpy as np\n",
        "import cv2\n",
        "import os\n",
        "import imghdr\n",
        "import tqdm.notebook as tq"
      ]
    },
    {
      "cell_type": "code",
      "execution_count": null,
      "metadata": {
        "id": "7VCbmpn6oD_I"
      },
      "outputs": [],
      "source": [
        "# Function that searches the folder for image files, converts them to a tensor\n",
        "def create_imgs_matrix(directory, compression=50):\n",
        "    global image_files\n",
        "    image_files = []\n",
        "    # create list of all files in directory\n",
        "    folder_files = [filename for filename in os.listdir(directory) if '.jpg' or '.png' in filename]\n",
        "\n",
        "    # create images matrix\n",
        "    counter = 0\n",
        "\n",
        "    for filename in tq.tqdm(folder_files):\n",
        "        # check if the file is accesible and if the file format is an image\n",
        "        if not os.path.isdir(directory + filename) and imghdr.what(directory + filename):\n",
        "            # decode the image and create the matrix\n",
        "            img = cv2.imdecode(np.fromfile(directory + filename, dtype=np.uint8), cv2.IMREAD_UNCHANGED)\n",
        "            if type(img) == np.ndarray:\n",
        "                img = img[...,0:3]\n",
        "                # resize the image based on the given compression value\n",
        "                img = cv2.resize(img, dsize=(compression, compression), interpolation=cv2.INTER_CUBIC)\n",
        "                if counter == 0:\n",
        "                    imgs_matrix = img\n",
        "                    image_files.append(filename)\n",
        "                    counter += 1\n",
        "                else:\n",
        "                    imgs_matrix = np.concatenate((imgs_matrix, img))\n",
        "                    image_files.append(filename)\n",
        "    return imgs_matrix"
      ]
    },
    {
      "cell_type": "code",
      "execution_count": null,
      "metadata": {
        "id": "w97eJsYjoG9z"
      },
      "outputs": [],
      "source": [
        "# Function that calulates the mean squared error (mse) between two image matrices\n",
        "def mse(imageA, imageB):\n",
        "    err = np.sum((imageA.astype(\"float\") - imageB.astype(\"float\")) ** 2)\n",
        "    err /= float(imageA.shape[0] * imageA.shape[1])\n",
        "    return err"
      ]
    },
    {
      "cell_type": "code",
      "execution_count": null,
      "metadata": {
        "id": "1GyJ8vn6oOv2"
      },
      "outputs": [],
      "source": [
        "#Function for rotating an image matrix by a 90 degree angle\n",
        "def rotate_img(image):\n",
        "    image = np.rot90(image, k=1, axes=(0, 1))\n",
        "    return image"
      ]
    },
    {
      "cell_type": "code",
      "execution_count": null,
      "metadata": {
        "id": "aVYG7fdNoWtV"
      },
      "outputs": [],
      "source": [
        "# Function for checking the quality of compared images, appends the lower quality image to the list\n",
        "def check_img_quality(directory, imageA, imageB, list):\n",
        "    size_imgA = os.stat(directory + imageA).st_size\n",
        "    size_imgB = os.stat(directory + imageB).st_size\n",
        "    if size_imgA > size_imgB:\n",
        "        add_to_list(imageB, list)\n",
        "    else:\n",
        "        add_to_list(imageA, list)"
      ]
    },
    {
      "cell_type": "code",
      "execution_count": null,
      "metadata": {
        "id": "kS28R_15oaPJ"
      },
      "outputs": [],
      "source": [
        "def compare_images(directory, show_imgs=True, similarity=\"low\", compression=50):\n",
        "    \"\"\"\n",
        "    directory (str).........folder to search for duplicate/similar images\n",
        "    show_imgs (bool)........True = shows the duplicate/similar images found in output\n",
        "                            False = doesn't show found images\n",
        "    similarity (str)........\"high\" = searches for duplicate images, more precise\n",
        "                            \"low\" = finds similar images\n",
        "    compression (int).......recommended not to change default value\n",
        "                            compression in px (height x width) of the images before being compared\n",
        "                            the higher the compression i.e. the higher the pixel size, the more computational ressources and time required\n",
        "    \"\"\"\n",
        "    # list where the found duplicate/similar images are stored\n",
        "    duplicates = []\n",
        "\n",
        "    lower_res = []\n",
        "\n",
        "    imgs_matrix = create_imgs_matrix(directory, compression)\n",
        "\n",
        "    # search for similar images\n",
        "    if similarity == \"low\":\n",
        "        ref = 400\n",
        "    # search for 1:1 duplicate images\n",
        "    else:\n",
        "        ref = 200\n",
        "\n",
        "    main_img = 0\n",
        "    compared_img = 1\n",
        "    nrows, ncols = compression, compression\n",
        "    srow_A = 0\n",
        "    erow_A = nrows\n",
        "    srow_B = erow_A\n",
        "    erow_B = srow_B + nrows\n",
        "\n",
        "    pbar = tq.tqdm(total=int(imgs_matrix.shape[0]))\n",
        "\n",
        "    while erow_B <= imgs_matrix.shape[0]:\n",
        "        pbar.update(int(nrows))\n",
        "        while compared_img < (len(image_files)):\n",
        "\n",
        "            # select two images from imgs_matrix\n",
        "            imgA = imgs_matrix[srow_A : erow_A, # rows\n",
        "                               0      : ncols]  # columns\n",
        "            imgB = imgs_matrix[srow_B : erow_B, # rows\n",
        "                               0      : ncols]  # columns\n",
        "            # compare the images\n",
        "            rotations = 0\n",
        "            while image_files[main_img] not in duplicates and rotations < 3:\n",
        "                if rotations != 0:\n",
        "                    imgB = rotate_img(imgB)\n",
        "                err = mse(imgA, imgB)\n",
        "                if err < ref:\n",
        "                    if show_imgs == True:\n",
        "                        show_img_figs(imgA, imgB, err)\n",
        "                        show_file_info(compared_img, main_img)\n",
        "                    add_to_list((image_files[main_img],image_files[compared_img]), duplicates)\n",
        "                rotations += 1\n",
        "            srow_B += nrows\n",
        "            erow_B += nrows\n",
        "            compared_img += 1\n",
        "\n",
        "        srow_A += nrows\n",
        "        erow_A += nrows\n",
        "        srow_B = erow_A\n",
        "        erow_B = srow_B + nrows\n",
        "        main_img += 1\n",
        "        compared_img = main_img + 1\n",
        "\n",
        "    pbar.update(int(nrows))\n",
        "    msg = \"\\n***\\n DONE: found \" + str(len(duplicates))  + \" duplicate/similar image pairs in \" + str(len(image_files)) + \" total images.\\n The following files are duplicated:\"\n",
        "    print(msg)\n",
        "    return set(duplicates), duplicates"
      ]
    },
    {
      "cell_type": "code",
      "execution_count": null,
      "metadata": {
        "id": "5EISXPCHotdd"
      },
      "outputs": [],
      "source": [
        "# Function for printing filename info of plotted image files\n",
        "def show_file_info(compared_img, main_img):\n",
        "    print(\"Duplicate file: \" + image_files[main_img] + \" and \" + image_files[compared_img])\n",
        "\n",
        "# Function for appending items to a list\n",
        "def add_to_list(filename, list):\n",
        "    list.append(filename)"
      ]
    },
    {
      "cell_type": "markdown",
      "source": [
        "# Inferencia"
      ],
      "metadata": {
        "id": "br1psZSLAv23"
      }
    },
    {
      "cell_type": "code",
      "source": [
        "diretorio = '' # Mantenha a barra \"/\" no final"
      ],
      "metadata": {
        "id": "k_EJ8sdw-3Ua"
      },
      "execution_count": null,
      "outputs": []
    },
    {
      "cell_type": "code",
      "execution_count": null,
      "metadata": {
        "colab": {
          "base_uri": "https://localhost:8080/",
          "height": 150,
          "referenced_widgets": [
            "7cd8af53797949c6a83b1061ab6d4b71",
            "19ef75de5df3480fbd3b9360478e9059",
            "d3cde4aff0b246f5995745ec9f1904f3",
            "a095063835ca4f19857f4130d2d4a8e7",
            "b8c5d4f18ddf4502b9ec1bfc5ce74084",
            "eb6fd33752004701a054da3ef1149d97",
            "7f1c956cf07c4bb7bcb55bae222ef6fe",
            "9d729533f9d0402b9e93a4d3e207aec9",
            "4da31fe7ce304408b378150304d38b31",
            "00f210f6ea65419296d9704f109ef6b6",
            "8f1c5f7ed4b64b84b924376d8c5985b6",
            "b6e76a2dfd4f497fb69ba11c924b7024",
            "6bb09cc04c4242f7af338baf483b7fea",
            "130549fb7eec4263bc05c0e27b36b8f0",
            "287062e0a0254e1b8a0038fe61a4bb4b",
            "f631b4024c984319b80e8fa9ce19de1c",
            "d5caa0992a6f44c6be565d751eddb7d3",
            "5bc99582bd4244d6a9d4e9d3c69459fa",
            "ec8cf5363fa94e62ae400947c5714d3e",
            "804985efbc2f4c0d95caf7a7c719ccfe",
            "6e0a7e7aaefb43efb5b139caca6f85f6",
            "fdc0e462cbea4769905bd7090937b3c4"
          ]
        },
        "id": "24Wg7K1rYlee",
        "outputId": "7757d2aa-b2df-41b1-e7b5-11c0c93262df"
      },
      "outputs": [
        {
          "output_type": "display_data",
          "data": {
            "text/plain": [
              "  0%|          | 0/1804 [00:00<?, ?it/s]"
            ],
            "application/vnd.jupyter.widget-view+json": {
              "version_major": 2,
              "version_minor": 0,
              "model_id": "7cd8af53797949c6a83b1061ab6d4b71"
            }
          },
          "metadata": {}
        },
        {
          "output_type": "display_data",
          "data": {
            "text/plain": [
              "  0%|          | 0/90200 [00:00<?, ?it/s]"
            ],
            "application/vnd.jupyter.widget-view+json": {
              "version_major": 2,
              "version_minor": 0,
              "model_id": "b6e76a2dfd4f497fb69ba11c924b7024"
            }
          },
          "metadata": {}
        },
        {
          "output_type": "stream",
          "name": "stdout",
          "text": [
            "\n",
            "***\n",
            " DONE: found 2 duplicate/similar image pairs in 1804 total images.\n",
            " The following files are duplicated:\n"
          ]
        }
      ],
      "source": [
        "set_duplicates, list_duplicates = compare_images(diretorio, show_imgs=False)"
      ]
    },
    {
      "cell_type": "code",
      "execution_count": null,
      "metadata": {
        "id": "IhwG5_Hqs38o"
      },
      "outputs": [],
      "source": [
        "set_duplicates"
      ]
    }
  ],
  "metadata": {
    "accelerator": "GPU",
    "colab": {
      "gpuType": "T4",
      "provenance": []
    },
    "kernelspec": {
      "display_name": "Python 3",
      "name": "python3"
    },
    "language_info": {
      "codemirror_mode": {
        "name": "ipython",
        "version": 3
      },
      "file_extension": ".py",
      "mimetype": "text/x-python",
      "name": "python",
      "nbconvert_exporter": "python",
      "pygments_lexer": "ipython3",
      "version": "3.11.3"
    },
    "widgets": {
      "application/vnd.jupyter.widget-state+json": {
        "7cd8af53797949c6a83b1061ab6d4b71": {
          "model_module": "@jupyter-widgets/controls",
          "model_name": "HBoxModel",
          "model_module_version": "1.5.0",
          "state": {
            "_dom_classes": [],
            "_model_module": "@jupyter-widgets/controls",
            "_model_module_version": "1.5.0",
            "_model_name": "HBoxModel",
            "_view_count": null,
            "_view_module": "@jupyter-widgets/controls",
            "_view_module_version": "1.5.0",
            "_view_name": "HBoxView",
            "box_style": "",
            "children": [
              "IPY_MODEL_19ef75de5df3480fbd3b9360478e9059",
              "IPY_MODEL_d3cde4aff0b246f5995745ec9f1904f3",
              "IPY_MODEL_a095063835ca4f19857f4130d2d4a8e7"
            ],
            "layout": "IPY_MODEL_b8c5d4f18ddf4502b9ec1bfc5ce74084"
          }
        },
        "19ef75de5df3480fbd3b9360478e9059": {
          "model_module": "@jupyter-widgets/controls",
          "model_name": "HTMLModel",
          "model_module_version": "1.5.0",
          "state": {
            "_dom_classes": [],
            "_model_module": "@jupyter-widgets/controls",
            "_model_module_version": "1.5.0",
            "_model_name": "HTMLModel",
            "_view_count": null,
            "_view_module": "@jupyter-widgets/controls",
            "_view_module_version": "1.5.0",
            "_view_name": "HTMLView",
            "description": "",
            "description_tooltip": null,
            "layout": "IPY_MODEL_eb6fd33752004701a054da3ef1149d97",
            "placeholder": "​",
            "style": "IPY_MODEL_7f1c956cf07c4bb7bcb55bae222ef6fe",
            "value": "100%"
          }
        },
        "d3cde4aff0b246f5995745ec9f1904f3": {
          "model_module": "@jupyter-widgets/controls",
          "model_name": "FloatProgressModel",
          "model_module_version": "1.5.0",
          "state": {
            "_dom_classes": [],
            "_model_module": "@jupyter-widgets/controls",
            "_model_module_version": "1.5.0",
            "_model_name": "FloatProgressModel",
            "_view_count": null,
            "_view_module": "@jupyter-widgets/controls",
            "_view_module_version": "1.5.0",
            "_view_name": "ProgressView",
            "bar_style": "success",
            "description": "",
            "description_tooltip": null,
            "layout": "IPY_MODEL_9d729533f9d0402b9e93a4d3e207aec9",
            "max": 1804,
            "min": 0,
            "orientation": "horizontal",
            "style": "IPY_MODEL_4da31fe7ce304408b378150304d38b31",
            "value": 1804
          }
        },
        "a095063835ca4f19857f4130d2d4a8e7": {
          "model_module": "@jupyter-widgets/controls",
          "model_name": "HTMLModel",
          "model_module_version": "1.5.0",
          "state": {
            "_dom_classes": [],
            "_model_module": "@jupyter-widgets/controls",
            "_model_module_version": "1.5.0",
            "_model_name": "HTMLModel",
            "_view_count": null,
            "_view_module": "@jupyter-widgets/controls",
            "_view_module_version": "1.5.0",
            "_view_name": "HTMLView",
            "description": "",
            "description_tooltip": null,
            "layout": "IPY_MODEL_00f210f6ea65419296d9704f109ef6b6",
            "placeholder": "​",
            "style": "IPY_MODEL_8f1c5f7ed4b64b84b924376d8c5985b6",
            "value": " 1804/1804 [00:27&lt;00:00, 115.58it/s]"
          }
        },
        "b8c5d4f18ddf4502b9ec1bfc5ce74084": {
          "model_module": "@jupyter-widgets/base",
          "model_name": "LayoutModel",
          "model_module_version": "1.2.0",
          "state": {
            "_model_module": "@jupyter-widgets/base",
            "_model_module_version": "1.2.0",
            "_model_name": "LayoutModel",
            "_view_count": null,
            "_view_module": "@jupyter-widgets/base",
            "_view_module_version": "1.2.0",
            "_view_name": "LayoutView",
            "align_content": null,
            "align_items": null,
            "align_self": null,
            "border": null,
            "bottom": null,
            "display": null,
            "flex": null,
            "flex_flow": null,
            "grid_area": null,
            "grid_auto_columns": null,
            "grid_auto_flow": null,
            "grid_auto_rows": null,
            "grid_column": null,
            "grid_gap": null,
            "grid_row": null,
            "grid_template_areas": null,
            "grid_template_columns": null,
            "grid_template_rows": null,
            "height": null,
            "justify_content": null,
            "justify_items": null,
            "left": null,
            "margin": null,
            "max_height": null,
            "max_width": null,
            "min_height": null,
            "min_width": null,
            "object_fit": null,
            "object_position": null,
            "order": null,
            "overflow": null,
            "overflow_x": null,
            "overflow_y": null,
            "padding": null,
            "right": null,
            "top": null,
            "visibility": null,
            "width": null
          }
        },
        "eb6fd33752004701a054da3ef1149d97": {
          "model_module": "@jupyter-widgets/base",
          "model_name": "LayoutModel",
          "model_module_version": "1.2.0",
          "state": {
            "_model_module": "@jupyter-widgets/base",
            "_model_module_version": "1.2.0",
            "_model_name": "LayoutModel",
            "_view_count": null,
            "_view_module": "@jupyter-widgets/base",
            "_view_module_version": "1.2.0",
            "_view_name": "LayoutView",
            "align_content": null,
            "align_items": null,
            "align_self": null,
            "border": null,
            "bottom": null,
            "display": null,
            "flex": null,
            "flex_flow": null,
            "grid_area": null,
            "grid_auto_columns": null,
            "grid_auto_flow": null,
            "grid_auto_rows": null,
            "grid_column": null,
            "grid_gap": null,
            "grid_row": null,
            "grid_template_areas": null,
            "grid_template_columns": null,
            "grid_template_rows": null,
            "height": null,
            "justify_content": null,
            "justify_items": null,
            "left": null,
            "margin": null,
            "max_height": null,
            "max_width": null,
            "min_height": null,
            "min_width": null,
            "object_fit": null,
            "object_position": null,
            "order": null,
            "overflow": null,
            "overflow_x": null,
            "overflow_y": null,
            "padding": null,
            "right": null,
            "top": null,
            "visibility": null,
            "width": null
          }
        },
        "7f1c956cf07c4bb7bcb55bae222ef6fe": {
          "model_module": "@jupyter-widgets/controls",
          "model_name": "DescriptionStyleModel",
          "model_module_version": "1.5.0",
          "state": {
            "_model_module": "@jupyter-widgets/controls",
            "_model_module_version": "1.5.0",
            "_model_name": "DescriptionStyleModel",
            "_view_count": null,
            "_view_module": "@jupyter-widgets/base",
            "_view_module_version": "1.2.0",
            "_view_name": "StyleView",
            "description_width": ""
          }
        },
        "9d729533f9d0402b9e93a4d3e207aec9": {
          "model_module": "@jupyter-widgets/base",
          "model_name": "LayoutModel",
          "model_module_version": "1.2.0",
          "state": {
            "_model_module": "@jupyter-widgets/base",
            "_model_module_version": "1.2.0",
            "_model_name": "LayoutModel",
            "_view_count": null,
            "_view_module": "@jupyter-widgets/base",
            "_view_module_version": "1.2.0",
            "_view_name": "LayoutView",
            "align_content": null,
            "align_items": null,
            "align_self": null,
            "border": null,
            "bottom": null,
            "display": null,
            "flex": null,
            "flex_flow": null,
            "grid_area": null,
            "grid_auto_columns": null,
            "grid_auto_flow": null,
            "grid_auto_rows": null,
            "grid_column": null,
            "grid_gap": null,
            "grid_row": null,
            "grid_template_areas": null,
            "grid_template_columns": null,
            "grid_template_rows": null,
            "height": null,
            "justify_content": null,
            "justify_items": null,
            "left": null,
            "margin": null,
            "max_height": null,
            "max_width": null,
            "min_height": null,
            "min_width": null,
            "object_fit": null,
            "object_position": null,
            "order": null,
            "overflow": null,
            "overflow_x": null,
            "overflow_y": null,
            "padding": null,
            "right": null,
            "top": null,
            "visibility": null,
            "width": null
          }
        },
        "4da31fe7ce304408b378150304d38b31": {
          "model_module": "@jupyter-widgets/controls",
          "model_name": "ProgressStyleModel",
          "model_module_version": "1.5.0",
          "state": {
            "_model_module": "@jupyter-widgets/controls",
            "_model_module_version": "1.5.0",
            "_model_name": "ProgressStyleModel",
            "_view_count": null,
            "_view_module": "@jupyter-widgets/base",
            "_view_module_version": "1.2.0",
            "_view_name": "StyleView",
            "bar_color": null,
            "description_width": ""
          }
        },
        "00f210f6ea65419296d9704f109ef6b6": {
          "model_module": "@jupyter-widgets/base",
          "model_name": "LayoutModel",
          "model_module_version": "1.2.0",
          "state": {
            "_model_module": "@jupyter-widgets/base",
            "_model_module_version": "1.2.0",
            "_model_name": "LayoutModel",
            "_view_count": null,
            "_view_module": "@jupyter-widgets/base",
            "_view_module_version": "1.2.0",
            "_view_name": "LayoutView",
            "align_content": null,
            "align_items": null,
            "align_self": null,
            "border": null,
            "bottom": null,
            "display": null,
            "flex": null,
            "flex_flow": null,
            "grid_area": null,
            "grid_auto_columns": null,
            "grid_auto_flow": null,
            "grid_auto_rows": null,
            "grid_column": null,
            "grid_gap": null,
            "grid_row": null,
            "grid_template_areas": null,
            "grid_template_columns": null,
            "grid_template_rows": null,
            "height": null,
            "justify_content": null,
            "justify_items": null,
            "left": null,
            "margin": null,
            "max_height": null,
            "max_width": null,
            "min_height": null,
            "min_width": null,
            "object_fit": null,
            "object_position": null,
            "order": null,
            "overflow": null,
            "overflow_x": null,
            "overflow_y": null,
            "padding": null,
            "right": null,
            "top": null,
            "visibility": null,
            "width": null
          }
        },
        "8f1c5f7ed4b64b84b924376d8c5985b6": {
          "model_module": "@jupyter-widgets/controls",
          "model_name": "DescriptionStyleModel",
          "model_module_version": "1.5.0",
          "state": {
            "_model_module": "@jupyter-widgets/controls",
            "_model_module_version": "1.5.0",
            "_model_name": "DescriptionStyleModel",
            "_view_count": null,
            "_view_module": "@jupyter-widgets/base",
            "_view_module_version": "1.2.0",
            "_view_name": "StyleView",
            "description_width": ""
          }
        },
        "b6e76a2dfd4f497fb69ba11c924b7024": {
          "model_module": "@jupyter-widgets/controls",
          "model_name": "HBoxModel",
          "model_module_version": "1.5.0",
          "state": {
            "_dom_classes": [],
            "_model_module": "@jupyter-widgets/controls",
            "_model_module_version": "1.5.0",
            "_model_name": "HBoxModel",
            "_view_count": null,
            "_view_module": "@jupyter-widgets/controls",
            "_view_module_version": "1.5.0",
            "_view_name": "HBoxView",
            "box_style": "",
            "children": [
              "IPY_MODEL_6bb09cc04c4242f7af338baf483b7fea",
              "IPY_MODEL_130549fb7eec4263bc05c0e27b36b8f0",
              "IPY_MODEL_287062e0a0254e1b8a0038fe61a4bb4b"
            ],
            "layout": "IPY_MODEL_f631b4024c984319b80e8fa9ce19de1c"
          }
        },
        "6bb09cc04c4242f7af338baf483b7fea": {
          "model_module": "@jupyter-widgets/controls",
          "model_name": "HTMLModel",
          "model_module_version": "1.5.0",
          "state": {
            "_dom_classes": [],
            "_model_module": "@jupyter-widgets/controls",
            "_model_module_version": "1.5.0",
            "_model_name": "HTMLModel",
            "_view_count": null,
            "_view_module": "@jupyter-widgets/controls",
            "_view_module_version": "1.5.0",
            "_view_name": "HTMLView",
            "description": "",
            "description_tooltip": null,
            "layout": "IPY_MODEL_d5caa0992a6f44c6be565d751eddb7d3",
            "placeholder": "​",
            "style": "IPY_MODEL_5bc99582bd4244d6a9d4e9d3c69459fa",
            "value": "100%"
          }
        },
        "130549fb7eec4263bc05c0e27b36b8f0": {
          "model_module": "@jupyter-widgets/controls",
          "model_name": "FloatProgressModel",
          "model_module_version": "1.5.0",
          "state": {
            "_dom_classes": [],
            "_model_module": "@jupyter-widgets/controls",
            "_model_module_version": "1.5.0",
            "_model_name": "FloatProgressModel",
            "_view_count": null,
            "_view_module": "@jupyter-widgets/controls",
            "_view_module_version": "1.5.0",
            "_view_name": "ProgressView",
            "bar_style": "",
            "description": "",
            "description_tooltip": null,
            "layout": "IPY_MODEL_ec8cf5363fa94e62ae400947c5714d3e",
            "max": 90200,
            "min": 0,
            "orientation": "horizontal",
            "style": "IPY_MODEL_804985efbc2f4c0d95caf7a7c719ccfe",
            "value": 90200
          }
        },
        "287062e0a0254e1b8a0038fe61a4bb4b": {
          "model_module": "@jupyter-widgets/controls",
          "model_name": "HTMLModel",
          "model_module_version": "1.5.0",
          "state": {
            "_dom_classes": [],
            "_model_module": "@jupyter-widgets/controls",
            "_model_module_version": "1.5.0",
            "_model_name": "HTMLModel",
            "_view_count": null,
            "_view_module": "@jupyter-widgets/controls",
            "_view_module_version": "1.5.0",
            "_view_name": "HTMLView",
            "description": "",
            "description_tooltip": null,
            "layout": "IPY_MODEL_6e0a7e7aaefb43efb5b139caca6f85f6",
            "placeholder": "​",
            "style": "IPY_MODEL_fdc0e462cbea4769905bd7090937b3c4",
            "value": " 90200/90200 [05:09&lt;00:00, 4698.37it/s]"
          }
        },
        "f631b4024c984319b80e8fa9ce19de1c": {
          "model_module": "@jupyter-widgets/base",
          "model_name": "LayoutModel",
          "model_module_version": "1.2.0",
          "state": {
            "_model_module": "@jupyter-widgets/base",
            "_model_module_version": "1.2.0",
            "_model_name": "LayoutModel",
            "_view_count": null,
            "_view_module": "@jupyter-widgets/base",
            "_view_module_version": "1.2.0",
            "_view_name": "LayoutView",
            "align_content": null,
            "align_items": null,
            "align_self": null,
            "border": null,
            "bottom": null,
            "display": null,
            "flex": null,
            "flex_flow": null,
            "grid_area": null,
            "grid_auto_columns": null,
            "grid_auto_flow": null,
            "grid_auto_rows": null,
            "grid_column": null,
            "grid_gap": null,
            "grid_row": null,
            "grid_template_areas": null,
            "grid_template_columns": null,
            "grid_template_rows": null,
            "height": null,
            "justify_content": null,
            "justify_items": null,
            "left": null,
            "margin": null,
            "max_height": null,
            "max_width": null,
            "min_height": null,
            "min_width": null,
            "object_fit": null,
            "object_position": null,
            "order": null,
            "overflow": null,
            "overflow_x": null,
            "overflow_y": null,
            "padding": null,
            "right": null,
            "top": null,
            "visibility": null,
            "width": null
          }
        },
        "d5caa0992a6f44c6be565d751eddb7d3": {
          "model_module": "@jupyter-widgets/base",
          "model_name": "LayoutModel",
          "model_module_version": "1.2.0",
          "state": {
            "_model_module": "@jupyter-widgets/base",
            "_model_module_version": "1.2.0",
            "_model_name": "LayoutModel",
            "_view_count": null,
            "_view_module": "@jupyter-widgets/base",
            "_view_module_version": "1.2.0",
            "_view_name": "LayoutView",
            "align_content": null,
            "align_items": null,
            "align_self": null,
            "border": null,
            "bottom": null,
            "display": null,
            "flex": null,
            "flex_flow": null,
            "grid_area": null,
            "grid_auto_columns": null,
            "grid_auto_flow": null,
            "grid_auto_rows": null,
            "grid_column": null,
            "grid_gap": null,
            "grid_row": null,
            "grid_template_areas": null,
            "grid_template_columns": null,
            "grid_template_rows": null,
            "height": null,
            "justify_content": null,
            "justify_items": null,
            "left": null,
            "margin": null,
            "max_height": null,
            "max_width": null,
            "min_height": null,
            "min_width": null,
            "object_fit": null,
            "object_position": null,
            "order": null,
            "overflow": null,
            "overflow_x": null,
            "overflow_y": null,
            "padding": null,
            "right": null,
            "top": null,
            "visibility": null,
            "width": null
          }
        },
        "5bc99582bd4244d6a9d4e9d3c69459fa": {
          "model_module": "@jupyter-widgets/controls",
          "model_name": "DescriptionStyleModel",
          "model_module_version": "1.5.0",
          "state": {
            "_model_module": "@jupyter-widgets/controls",
            "_model_module_version": "1.5.0",
            "_model_name": "DescriptionStyleModel",
            "_view_count": null,
            "_view_module": "@jupyter-widgets/base",
            "_view_module_version": "1.2.0",
            "_view_name": "StyleView",
            "description_width": ""
          }
        },
        "ec8cf5363fa94e62ae400947c5714d3e": {
          "model_module": "@jupyter-widgets/base",
          "model_name": "LayoutModel",
          "model_module_version": "1.2.0",
          "state": {
            "_model_module": "@jupyter-widgets/base",
            "_model_module_version": "1.2.0",
            "_model_name": "LayoutModel",
            "_view_count": null,
            "_view_module": "@jupyter-widgets/base",
            "_view_module_version": "1.2.0",
            "_view_name": "LayoutView",
            "align_content": null,
            "align_items": null,
            "align_self": null,
            "border": null,
            "bottom": null,
            "display": null,
            "flex": null,
            "flex_flow": null,
            "grid_area": null,
            "grid_auto_columns": null,
            "grid_auto_flow": null,
            "grid_auto_rows": null,
            "grid_column": null,
            "grid_gap": null,
            "grid_row": null,
            "grid_template_areas": null,
            "grid_template_columns": null,
            "grid_template_rows": null,
            "height": null,
            "justify_content": null,
            "justify_items": null,
            "left": null,
            "margin": null,
            "max_height": null,
            "max_width": null,
            "min_height": null,
            "min_width": null,
            "object_fit": null,
            "object_position": null,
            "order": null,
            "overflow": null,
            "overflow_x": null,
            "overflow_y": null,
            "padding": null,
            "right": null,
            "top": null,
            "visibility": null,
            "width": null
          }
        },
        "804985efbc2f4c0d95caf7a7c719ccfe": {
          "model_module": "@jupyter-widgets/controls",
          "model_name": "ProgressStyleModel",
          "model_module_version": "1.5.0",
          "state": {
            "_model_module": "@jupyter-widgets/controls",
            "_model_module_version": "1.5.0",
            "_model_name": "ProgressStyleModel",
            "_view_count": null,
            "_view_module": "@jupyter-widgets/base",
            "_view_module_version": "1.2.0",
            "_view_name": "StyleView",
            "bar_color": null,
            "description_width": ""
          }
        },
        "6e0a7e7aaefb43efb5b139caca6f85f6": {
          "model_module": "@jupyter-widgets/base",
          "model_name": "LayoutModel",
          "model_module_version": "1.2.0",
          "state": {
            "_model_module": "@jupyter-widgets/base",
            "_model_module_version": "1.2.0",
            "_model_name": "LayoutModel",
            "_view_count": null,
            "_view_module": "@jupyter-widgets/base",
            "_view_module_version": "1.2.0",
            "_view_name": "LayoutView",
            "align_content": null,
            "align_items": null,
            "align_self": null,
            "border": null,
            "bottom": null,
            "display": null,
            "flex": null,
            "flex_flow": null,
            "grid_area": null,
            "grid_auto_columns": null,
            "grid_auto_flow": null,
            "grid_auto_rows": null,
            "grid_column": null,
            "grid_gap": null,
            "grid_row": null,
            "grid_template_areas": null,
            "grid_template_columns": null,
            "grid_template_rows": null,
            "height": null,
            "justify_content": null,
            "justify_items": null,
            "left": null,
            "margin": null,
            "max_height": null,
            "max_width": null,
            "min_height": null,
            "min_width": null,
            "object_fit": null,
            "object_position": null,
            "order": null,
            "overflow": null,
            "overflow_x": null,
            "overflow_y": null,
            "padding": null,
            "right": null,
            "top": null,
            "visibility": null,
            "width": null
          }
        },
        "fdc0e462cbea4769905bd7090937b3c4": {
          "model_module": "@jupyter-widgets/controls",
          "model_name": "DescriptionStyleModel",
          "model_module_version": "1.5.0",
          "state": {
            "_model_module": "@jupyter-widgets/controls",
            "_model_module_version": "1.5.0",
            "_model_name": "DescriptionStyleModel",
            "_view_count": null,
            "_view_module": "@jupyter-widgets/base",
            "_view_module_version": "1.2.0",
            "_view_name": "StyleView",
            "description_width": ""
          }
        }
      }
    }
  },
  "nbformat": 4,
  "nbformat_minor": 0
}